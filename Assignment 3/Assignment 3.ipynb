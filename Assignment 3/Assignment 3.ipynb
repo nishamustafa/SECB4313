{
  "nbformat": 4,
  "nbformat_minor": 0,
  "metadata": {
    "colab": {
      "provenance": []
    },
    "kernelspec": {
      "name": "python3",
      "display_name": "Python 3"
    },
    "language_info": {
      "name": "python"
    }
  },
  "cells": [
    {
      "cell_type": "markdown",
      "source": [
        "Import libraries"
      ],
      "metadata": {
        "id": "hLkXcf31Luhg"
      }
    },
    {
      "cell_type": "code",
      "execution_count": null,
      "metadata": {
        "id": "rWLjHEqVvM3L"
      },
      "outputs": [],
      "source": [
        "import numpy as np\n",
        "import pandas as pd\n",
        "from tensorflow.keras.models import Sequential\n",
        "from tensorflow.keras.layers import Dense, Dropout\n",
        "from tensorflow.keras.optimizers import Adam\n",
        "from tensorflow.keras.activations import relu, selu\n",
        "from sklearn.model_selection import train_test_split, GridSearchCV\n",
        "from sklearn.preprocessing import StandardScaler\n",
        "from sklearn.metrics import accuracy_score"
      ]
    },
    {
      "cell_type": "markdown",
      "source": [
        "Load dataset"
      ],
      "metadata": {
        "id": "OA2K1Sm7MAe3"
      }
    },
    {
      "cell_type": "code",
      "source": [
        "# Step 1: Load the heart.csv dataset\n",
        "data = pd.read_csv('heart.csv')\n",
        "\n",
        "# Assuming the last column is the target variable\n",
        "X = data.drop(columns=['target'])\n",
        "y = data['target']"
      ],
      "metadata": {
        "id": "VLZTEaXbLCb8"
      },
      "execution_count": null,
      "outputs": []
    },
    {
      "cell_type": "markdown",
      "source": [
        "Split the dataset"
      ],
      "metadata": {
        "id": "PmaDf4Qapq_B"
      }
    },
    {
      "cell_type": "code",
      "source": [
        "# Step 2: Split the dataset into training and testing sets\n",
        "X_train, X_test, y_train, y_test = train_test_split(X, y, test_size=0.2, random_state=42)"
      ],
      "metadata": {
        "id": "E9p_T7rBLD9s"
      },
      "execution_count": null,
      "outputs": []
    },
    {
      "cell_type": "markdown",
      "source": [
        "Scale the features"
      ],
      "metadata": {
        "id": "MiPmpZsiEKa7"
      }
    },
    {
      "cell_type": "code",
      "source": [
        "# Step 3: Scale the features\n",
        "scaler = StandardScaler()\n",
        "X_train = scaler.fit_transform(X_train)\n",
        "X_test = scaler.transform(X_test)"
      ],
      "metadata": {
        "id": "p5psz6yDEOwa"
      },
      "execution_count": null,
      "outputs": []
    },
    {
      "cell_type": "markdown",
      "source": [
        "Define the hyperparameter grid"
      ],
      "metadata": {
        "id": "5eCLfin8p5tD"
      }
    },
    {
      "cell_type": "code",
      "source": [
        "# Step 4: Define the hyperparameters as shown in the image\n",
        "experiments = [\n",
        "    {'learning_rate': 0.001, 'batch_size': 32, 'activation_function': 'relu', 'dropout_rate': 0.2},\n",
        "    {'learning_rate': 0.001, 'batch_size': 32, 'activation_function': 'relu', 'dropout_rate': 0.5},\n",
        "    {'learning_rate': 0.001, 'batch_size': 32, 'activation_function': 'selu', 'dropout_rate': 0.2},\n",
        "    {'learning_rate': 0.001, 'batch_size': 32, 'activation_function': 'selu', 'dropout_rate': 0.5},\n",
        "    {'learning_rate': 0.001, 'batch_size': 64, 'activation_function': 'relu', 'dropout_rate': 0.2},\n",
        "    {'learning_rate': 0.001, 'batch_size': 64, 'activation_function': 'relu', 'dropout_rate': 0.5},\n",
        "    {'learning_rate': 0.001, 'batch_size': 64, 'activation_function': 'selu', 'dropout_rate': 0.2},\n",
        "    {'learning_rate': 0.001, 'batch_size': 64, 'activation_function': 'selu', 'dropout_rate': 0.5},\n",
        "    {'learning_rate': 0.0001, 'batch_size': 32, 'activation_function': 'relu', 'dropout_rate': 0.2},\n",
        "    {'learning_rate': 0.0001, 'batch_size': 32, 'activation_function': 'relu', 'dropout_rate': 0.5},\n",
        "    {'learning_rate': 0.0001, 'batch_size': 32, 'activation_function': 'selu', 'dropout_rate': 0.2},\n",
        "    {'learning_rate': 0.0001, 'batch_size': 32, 'activation_function': 'selu', 'dropout_rate': 0.5},\n",
        "    {'learning_rate': 0.0001, 'batch_size': 64, 'activation_function': 'relu', 'dropout_rate': 0.2},\n",
        "    {'learning_rate': 0.0001, 'batch_size': 64, 'activation_function': 'relu', 'dropout_rate': 0.5},\n",
        "    {'learning_rate': 0.0001, 'batch_size': 64, 'activation_function': 'selu', 'dropout_rate': 0.2},\n",
        "]"
      ],
      "metadata": {
        "id": "oNoyG_IWLQtZ"
      },
      "execution_count": null,
      "outputs": []
    },
    {
      "cell_type": "markdown",
      "source": [
        "Create model"
      ],
      "metadata": {
        "id": "MuChNTevEkzb"
      }
    },
    {
      "cell_type": "code",
      "source": [
        "# Step 5: Function to create and compile the model\n",
        "def create_model(learning_rate, activation_function, dropout_rate):\n",
        "    model = Sequential()\n",
        "    model.add(Dense(64, input_dim=X_train.shape[1], activation=activation_function))\n",
        "    model.add(Dropout(dropout_rate))\n",
        "    model.add(Dense(64, activation=activation_function))\n",
        "    model.add(Dropout(dropout_rate))\n",
        "    model.add(Dense(1, activation='sigmoid'))\n",
        "    optimizer = Adam(learning_rate=learning_rate)\n",
        "    model.compile(optimizer=optimizer, loss='binary_crossentropy', metrics=['accuracy'])\n",
        "    return model"
      ],
      "metadata": {
        "id": "p8J0AljzErAD"
      },
      "execution_count": null,
      "outputs": []
    },
    {
      "cell_type": "markdown",
      "source": [
        "Train the model"
      ],
      "metadata": {
        "id": "bY8DWUW2p-vC"
      }
    },
    {
      "cell_type": "code",
      "source": [
        "# Step 6: Iterate through the experiments and train the model\n",
        "results = []\n",
        "for experiment in experiments:\n",
        "    model = create_model(\n",
        "        learning_rate=experiment['learning_rate'],\n",
        "        activation_function=experiment['activation_function'],\n",
        "        dropout_rate=experiment['dropout_rate']\n",
        "    )\n",
        "    model.fit(X_train, y_train, epochs=50, batch_size=experiment['batch_size'], verbose=0)\n",
        "    _, accuracy = model.evaluate(X_test, y_test, verbose=0)\n",
        "    results.append({\n",
        "        'experiment': experiment,\n",
        "        'accuracy': accuracy\n",
        "    })"
      ],
      "metadata": {
        "id": "K2OnPS-1LWx1",
        "colab": {
          "base_uri": "https://localhost:8080/"
        },
        "outputId": "ccf027cd-17f7-4fdc-a895-40fba3864d3b"
      },
      "execution_count": null,
      "outputs": [
        {
          "output_type": "stream",
          "name": "stderr",
          "text": [
            "WARNING:tensorflow:5 out of the last 9 calls to <function Model.make_test_function.<locals>.test_function at 0x7af8308ae560> triggered tf.function retracing. Tracing is expensive and the excessive number of tracings could be due to (1) creating @tf.function repeatedly in a loop, (2) passing tensors with different shapes, (3) passing Python objects instead of tensors. For (1), please define your @tf.function outside of the loop. For (2), @tf.function has reduce_retracing=True option that can avoid unnecessary retracing. For (3), please refer to https://www.tensorflow.org/guide/function#controlling_retracing and https://www.tensorflow.org/api_docs/python/tf/function for  more details.\n",
            "WARNING:tensorflow:6 out of the last 11 calls to <function Model.make_test_function.<locals>.test_function at 0x7af8331b4820> triggered tf.function retracing. Tracing is expensive and the excessive number of tracings could be due to (1) creating @tf.function repeatedly in a loop, (2) passing tensors with different shapes, (3) passing Python objects instead of tensors. For (1), please define your @tf.function outside of the loop. For (2), @tf.function has reduce_retracing=True option that can avoid unnecessary retracing. For (3), please refer to https://www.tensorflow.org/guide/function#controlling_retracing and https://www.tensorflow.org/api_docs/python/tf/function for  more details.\n"
          ]
        }
      ]
    },
    {
      "cell_type": "markdown",
      "source": [
        "Results"
      ],
      "metadata": {
        "id": "XJpQVjb4qCHr"
      }
    },
    {
      "cell_type": "code",
      "source": [
        "# Step 7: Display the results\n",
        "results_df = pd.DataFrame(results)\n",
        "pd.set_option('display.precision', 10)\n",
        "print(results_df)"
      ],
      "metadata": {
        "id": "Fj6fud_Ea9sl",
        "colab": {
          "base_uri": "https://localhost:8080/"
        },
        "outputId": "2518e8a6-d9da-461d-bfe6-45faf497f033"
      },
      "execution_count": null,
      "outputs": [
        {
          "output_type": "stream",
          "name": "stdout",
          "text": [
            "                                           experiment      accuracy\n",
            "0   {'learning_rate': 0.001, 'batch_size': 32, 'ac...  0.8032786846\n",
            "1   {'learning_rate': 0.001, 'batch_size': 32, 'ac...  0.8360655904\n",
            "2   {'learning_rate': 0.001, 'batch_size': 32, 'ac...  0.8688524365\n",
            "3   {'learning_rate': 0.001, 'batch_size': 32, 'ac...  0.8360655904\n",
            "4   {'learning_rate': 0.001, 'batch_size': 64, 'ac...  0.8852459192\n",
            "5   {'learning_rate': 0.001, 'batch_size': 64, 'ac...  0.9016393423\n",
            "6   {'learning_rate': 0.001, 'batch_size': 64, 'ac...  0.8524590135\n",
            "7   {'learning_rate': 0.001, 'batch_size': 64, 'ac...  0.8360655904\n",
            "8   {'learning_rate': 0.0001, 'batch_size': 32, 'a...  0.8688524365\n",
            "9   {'learning_rate': 0.0001, 'batch_size': 32, 'a...  0.8524590135\n",
            "10  {'learning_rate': 0.0001, 'batch_size': 32, 'a...  0.8524590135\n",
            "11  {'learning_rate': 0.0001, 'batch_size': 32, 'a...  0.8688524365\n",
            "12  {'learning_rate': 0.0001, 'batch_size': 64, 'a...  0.8524590135\n",
            "13  {'learning_rate': 0.0001, 'batch_size': 64, 'a...  0.8196721077\n",
            "14  {'learning_rate': 0.0001, 'batch_size': 64, 'a...  0.8688524365\n"
          ]
        }
      ]
    },
    {
      "cell_type": "markdown",
      "source": [
        "Hyperparameter Tuning Using GridSearch"
      ],
      "metadata": {
        "id": "K2Llx1e9Dl-B"
      }
    },
    {
      "cell_type": "code",
      "source": [
        "from sklearn.model_selection import GridSearchCV\n",
        "from sklearn.base import BaseEstimator\n",
        "\n",
        "# Wrapper class for model creation function\n",
        "class KerasGridSearch(BaseEstimator):\n",
        "    def __init__(self, learning_rate=0.001, activation_function='relu', dropout_rate=0.2, batch_size=32):\n",
        "        self.learning_rate = learning_rate\n",
        "        self.activation_function = activation_function\n",
        "        self.dropout_rate = dropout_rate\n",
        "        self.batch_size = batch_size\n",
        "        self.model = self.create_model()\n",
        "\n",
        "    def create_model(self):\n",
        "        model = Sequential()\n",
        "        model.add(Dense(64, input_dim=X_train.shape[1], activation=self.activation_function))\n",
        "        model.add(Dropout(self.dropout_rate))\n",
        "        model.add(Dense(64, activation=self.activation_function))\n",
        "        model.add(Dropout(self.dropout_rate))\n",
        "        model.add(Dense(1, activation='sigmoid'))\n",
        "        optimizer = Adam(learning_rate=self.learning_rate)\n",
        "        model.compile(optimizer=optimizer, loss='binary_crossentropy', metrics=['accuracy'])\n",
        "        return model\n",
        "\n",
        "    def fit(self, X, y):\n",
        "        self.model.fit(X, y, epochs=50, batch_size=self.batch_size, verbose=0)\n",
        "        return self\n",
        "\n",
        "    def predict(self, X):\n",
        "        return (self.model.predict(X) > 0.5).astype(\"int32\")\n",
        "\n",
        "    def score(self, X, y):\n",
        "        y_pred = self.predict(X)\n",
        "        return accuracy_score(y, y_pred)\n",
        "\n",
        "# Create an instance of the wrapper class\n",
        "model = KerasGridSearch()\n",
        "\n",
        "# Define the hyperparameter grid for GridSearchCV\n",
        "param_grid = {\n",
        "    'learning_rate': [0.001, 0.0001],\n",
        "    'activation_function': ['relu', 'selu'],\n",
        "    'dropout_rate': [0.2, 0.5],\n",
        "    'batch_size': [32, 64]\n",
        "}\n",
        "\n",
        "# Create GridSearchCV object\n",
        "grid_search = GridSearchCV(estimator=model, param_grid=param_grid, cv=3)\n",
        "\n",
        "# Fit GridSearchCV to training data\n",
        "grid_search.fit(X_train, y_train)"
      ],
      "metadata": {
        "colab": {
          "base_uri": "https://localhost:8080/",
          "height": 1000
        },
        "id": "RwAI0yCwItSu",
        "outputId": "de3688bc-8158-449f-a64f-222910dddb74"
      },
      "execution_count": null,
      "outputs": [
        {
          "output_type": "stream",
          "name": "stdout",
          "text": [
            "3/3 [==============================] - 0s 6ms/step\n",
            "3/3 [==============================] - 0s 5ms/step\n",
            "3/3 [==============================] - 0s 5ms/step\n",
            "3/3 [==============================] - 0s 6ms/step\n"
          ]
        },
        {
          "output_type": "stream",
          "name": "stderr",
          "text": [
            "WARNING:tensorflow:5 out of the last 13 calls to <function Model.make_predict_function.<locals>.predict_function at 0x7af832380790> triggered tf.function retracing. Tracing is expensive and the excessive number of tracings could be due to (1) creating @tf.function repeatedly in a loop, (2) passing tensors with different shapes, (3) passing Python objects instead of tensors. For (1), please define your @tf.function outside of the loop. For (2), @tf.function has reduce_retracing=True option that can avoid unnecessary retracing. For (3), please refer to https://www.tensorflow.org/guide/function#controlling_retracing and https://www.tensorflow.org/api_docs/python/tf/function for  more details.\n"
          ]
        },
        {
          "output_type": "stream",
          "name": "stdout",
          "text": [
            "3/3 [==============================] - 0s 5ms/step\n"
          ]
        },
        {
          "output_type": "stream",
          "name": "stderr",
          "text": [
            "WARNING:tensorflow:5 out of the last 13 calls to <function Model.make_predict_function.<locals>.predict_function at 0x7af8323808b0> triggered tf.function retracing. Tracing is expensive and the excessive number of tracings could be due to (1) creating @tf.function repeatedly in a loop, (2) passing tensors with different shapes, (3) passing Python objects instead of tensors. For (1), please define your @tf.function outside of the loop. For (2), @tf.function has reduce_retracing=True option that can avoid unnecessary retracing. For (3), please refer to https://www.tensorflow.org/guide/function#controlling_retracing and https://www.tensorflow.org/api_docs/python/tf/function for  more details.\n"
          ]
        },
        {
          "output_type": "stream",
          "name": "stdout",
          "text": [
            "3/3 [==============================] - 0s 7ms/step\n",
            "3/3 [==============================] - 0s 6ms/step\n",
            "3/3 [==============================] - 0s 5ms/step\n",
            "3/3 [==============================] - 0s 6ms/step\n",
            "3/3 [==============================] - 0s 6ms/step\n",
            "3/3 [==============================] - 0s 5ms/step\n",
            "3/3 [==============================] - 0s 4ms/step\n",
            "3/3 [==============================] - 0s 6ms/step\n",
            "3/3 [==============================] - 0s 6ms/step\n",
            "3/3 [==============================] - 0s 4ms/step\n",
            "3/3 [==============================] - 0s 4ms/step\n",
            "3/3 [==============================] - 0s 5ms/step\n",
            "3/3 [==============================] - 0s 6ms/step\n",
            "3/3 [==============================] - 0s 5ms/step\n",
            "3/3 [==============================] - 0s 6ms/step\n",
            "3/3 [==============================] - 0s 6ms/step\n",
            "3/3 [==============================] - 0s 4ms/step\n",
            "3/3 [==============================] - 0s 5ms/step\n",
            "3/3 [==============================] - 0s 5ms/step\n",
            "3/3 [==============================] - 0s 5ms/step\n",
            "3/3 [==============================] - 0s 5ms/step\n",
            "3/3 [==============================] - 0s 5ms/step\n",
            "3/3 [==============================] - 0s 4ms/step\n",
            "3/3 [==============================] - 0s 5ms/step\n",
            "3/3 [==============================] - 0s 6ms/step\n",
            "3/3 [==============================] - 0s 5ms/step\n",
            "3/3 [==============================] - 0s 6ms/step\n",
            "3/3 [==============================] - 0s 9ms/step\n",
            "3/3 [==============================] - 0s 5ms/step\n",
            "3/3 [==============================] - 0s 5ms/step\n",
            "3/3 [==============================] - 0s 5ms/step\n",
            "3/3 [==============================] - 0s 5ms/step\n",
            "3/3 [==============================] - 0s 11ms/step\n",
            "3/3 [==============================] - 0s 5ms/step\n",
            "3/3 [==============================] - 0s 5ms/step\n",
            "3/3 [==============================] - 0s 5ms/step\n",
            "3/3 [==============================] - 0s 10ms/step\n",
            "3/3 [==============================] - 0s 6ms/step\n",
            "3/3 [==============================] - 0s 5ms/step\n",
            "3/3 [==============================] - 0s 6ms/step\n",
            "3/3 [==============================] - 0s 8ms/step\n",
            "3/3 [==============================] - 0s 11ms/step\n",
            "3/3 [==============================] - 0s 5ms/step\n"
          ]
        },
        {
          "output_type": "execute_result",
          "data": {
            "text/plain": [
              "GridSearchCV(cv=3, estimator=KerasGridSearch(),\n",
              "             param_grid={'activation_function': ['relu', 'selu'],\n",
              "                         'batch_size': [32, 64], 'dropout_rate': [0.2, 0.5],\n",
              "                         'learning_rate': [0.001, 0.0001]})"
            ],
            "text/html": [
              "<style>#sk-container-id-1 {color: black;background-color: white;}#sk-container-id-1 pre{padding: 0;}#sk-container-id-1 div.sk-toggleable {background-color: white;}#sk-container-id-1 label.sk-toggleable__label {cursor: pointer;display: block;width: 100%;margin-bottom: 0;padding: 0.3em;box-sizing: border-box;text-align: center;}#sk-container-id-1 label.sk-toggleable__label-arrow:before {content: \"▸\";float: left;margin-right: 0.25em;color: #696969;}#sk-container-id-1 label.sk-toggleable__label-arrow:hover:before {color: black;}#sk-container-id-1 div.sk-estimator:hover label.sk-toggleable__label-arrow:before {color: black;}#sk-container-id-1 div.sk-toggleable__content {max-height: 0;max-width: 0;overflow: hidden;text-align: left;background-color: #f0f8ff;}#sk-container-id-1 div.sk-toggleable__content pre {margin: 0.2em;color: black;border-radius: 0.25em;background-color: #f0f8ff;}#sk-container-id-1 input.sk-toggleable__control:checked~div.sk-toggleable__content {max-height: 200px;max-width: 100%;overflow: auto;}#sk-container-id-1 input.sk-toggleable__control:checked~label.sk-toggleable__label-arrow:before {content: \"▾\";}#sk-container-id-1 div.sk-estimator input.sk-toggleable__control:checked~label.sk-toggleable__label {background-color: #d4ebff;}#sk-container-id-1 div.sk-label input.sk-toggleable__control:checked~label.sk-toggleable__label {background-color: #d4ebff;}#sk-container-id-1 input.sk-hidden--visually {border: 0;clip: rect(1px 1px 1px 1px);clip: rect(1px, 1px, 1px, 1px);height: 1px;margin: -1px;overflow: hidden;padding: 0;position: absolute;width: 1px;}#sk-container-id-1 div.sk-estimator {font-family: monospace;background-color: #f0f8ff;border: 1px dotted black;border-radius: 0.25em;box-sizing: border-box;margin-bottom: 0.5em;}#sk-container-id-1 div.sk-estimator:hover {background-color: #d4ebff;}#sk-container-id-1 div.sk-parallel-item::after {content: \"\";width: 100%;border-bottom: 1px solid gray;flex-grow: 1;}#sk-container-id-1 div.sk-label:hover label.sk-toggleable__label {background-color: #d4ebff;}#sk-container-id-1 div.sk-serial::before {content: \"\";position: absolute;border-left: 1px solid gray;box-sizing: border-box;top: 0;bottom: 0;left: 50%;z-index: 0;}#sk-container-id-1 div.sk-serial {display: flex;flex-direction: column;align-items: center;background-color: white;padding-right: 0.2em;padding-left: 0.2em;position: relative;}#sk-container-id-1 div.sk-item {position: relative;z-index: 1;}#sk-container-id-1 div.sk-parallel {display: flex;align-items: stretch;justify-content: center;background-color: white;position: relative;}#sk-container-id-1 div.sk-item::before, #sk-container-id-1 div.sk-parallel-item::before {content: \"\";position: absolute;border-left: 1px solid gray;box-sizing: border-box;top: 0;bottom: 0;left: 50%;z-index: -1;}#sk-container-id-1 div.sk-parallel-item {display: flex;flex-direction: column;z-index: 1;position: relative;background-color: white;}#sk-container-id-1 div.sk-parallel-item:first-child::after {align-self: flex-end;width: 50%;}#sk-container-id-1 div.sk-parallel-item:last-child::after {align-self: flex-start;width: 50%;}#sk-container-id-1 div.sk-parallel-item:only-child::after {width: 0;}#sk-container-id-1 div.sk-dashed-wrapped {border: 1px dashed gray;margin: 0 0.4em 0.5em 0.4em;box-sizing: border-box;padding-bottom: 0.4em;background-color: white;}#sk-container-id-1 div.sk-label label {font-family: monospace;font-weight: bold;display: inline-block;line-height: 1.2em;}#sk-container-id-1 div.sk-label-container {text-align: center;}#sk-container-id-1 div.sk-container {/* jupyter's `normalize.less` sets `[hidden] { display: none; }` but bootstrap.min.css set `[hidden] { display: none !important; }` so we also need the `!important` here to be able to override the default hidden behavior on the sphinx rendered scikit-learn.org. See: https://github.com/scikit-learn/scikit-learn/issues/21755 */display: inline-block !important;position: relative;}#sk-container-id-1 div.sk-text-repr-fallback {display: none;}</style><div id=\"sk-container-id-1\" class=\"sk-top-container\"><div class=\"sk-text-repr-fallback\"><pre>GridSearchCV(cv=3, estimator=KerasGridSearch(),\n",
              "             param_grid={&#x27;activation_function&#x27;: [&#x27;relu&#x27;, &#x27;selu&#x27;],\n",
              "                         &#x27;batch_size&#x27;: [32, 64], &#x27;dropout_rate&#x27;: [0.2, 0.5],\n",
              "                         &#x27;learning_rate&#x27;: [0.001, 0.0001]})</pre><b>In a Jupyter environment, please rerun this cell to show the HTML representation or trust the notebook. <br />On GitHub, the HTML representation is unable to render, please try loading this page with nbviewer.org.</b></div><div class=\"sk-container\" hidden><div class=\"sk-item sk-dashed-wrapped\"><div class=\"sk-label-container\"><div class=\"sk-label sk-toggleable\"><input class=\"sk-toggleable__control sk-hidden--visually\" id=\"sk-estimator-id-1\" type=\"checkbox\" ><label for=\"sk-estimator-id-1\" class=\"sk-toggleable__label sk-toggleable__label-arrow\">GridSearchCV</label><div class=\"sk-toggleable__content\"><pre>GridSearchCV(cv=3, estimator=KerasGridSearch(),\n",
              "             param_grid={&#x27;activation_function&#x27;: [&#x27;relu&#x27;, &#x27;selu&#x27;],\n",
              "                         &#x27;batch_size&#x27;: [32, 64], &#x27;dropout_rate&#x27;: [0.2, 0.5],\n",
              "                         &#x27;learning_rate&#x27;: [0.001, 0.0001]})</pre></div></div></div><div class=\"sk-parallel\"><div class=\"sk-parallel-item\"><div class=\"sk-item\"><div class=\"sk-label-container\"><div class=\"sk-label sk-toggleable\"><input class=\"sk-toggleable__control sk-hidden--visually\" id=\"sk-estimator-id-2\" type=\"checkbox\" ><label for=\"sk-estimator-id-2\" class=\"sk-toggleable__label sk-toggleable__label-arrow\">estimator: KerasGridSearch</label><div class=\"sk-toggleable__content\"><pre>KerasGridSearch()</pre></div></div></div><div class=\"sk-serial\"><div class=\"sk-item\"><div class=\"sk-estimator sk-toggleable\"><input class=\"sk-toggleable__control sk-hidden--visually\" id=\"sk-estimator-id-3\" type=\"checkbox\" ><label for=\"sk-estimator-id-3\" class=\"sk-toggleable__label sk-toggleable__label-arrow\">KerasGridSearch</label><div class=\"sk-toggleable__content\"><pre>KerasGridSearch()</pre></div></div></div></div></div></div></div></div></div></div>"
            ]
          },
          "metadata": {},
          "execution_count": 9
        }
      ]
    },
    {
      "cell_type": "code",
      "source": [
        "print(\"Best Hyperparameter: \", grid_search.best_params_)\n",
        "print(\"Best score: \", grid_search.best_score_)"
      ],
      "metadata": {
        "colab": {
          "base_uri": "https://localhost:8080/"
        },
        "id": "lyjnRZTVMdgr",
        "outputId": "b1dcf853-4598-4f65-a856-bccfa6dea738"
      },
      "execution_count": null,
      "outputs": [
        {
          "output_type": "stream",
          "name": "stdout",
          "text": [
            "Best Hyperparameter:  {'activation_function': 'relu', 'batch_size': 64, 'dropout_rate': 0.2, 'learning_rate': 0.001}\n",
            "Best score:  0.8140946502057614\n"
          ]
        }
      ]
    },
    {
      "cell_type": "markdown",
      "source": [
        "HYPERPARAMETER OPTIMIZATION RANDOM SEARCH"
      ],
      "metadata": {
        "id": "Gz60yYX0YqED"
      }
    },
    {
      "cell_type": "code",
      "source": [
        "from sklearn.model_selection import RandomizedSearchCV\n",
        "from sklearn.base import BaseEstimator\n",
        "from keras.models import Sequential\n",
        "from keras.layers import Dense, Dropout\n",
        "from keras.optimizers import Adam\n",
        "from sklearn.metrics import accuracy_score\n",
        "import numpy as np\n",
        "\n",
        "# Wrapper class for model creation function\n",
        "class KerasRandomSearch(BaseEstimator):\n",
        "    def __init__(self, learning_rate=0.001, activation_function='relu', dropout_rate=0.2, batch_size=32):\n",
        "        self.learning_rate = learning_rate\n",
        "        self.activation_function = activation_function\n",
        "        self.dropout_rate = dropout_rate\n",
        "        self.batch_size = batch_size\n",
        "        self.model = self.create_model()\n",
        "\n",
        "    def create_model(self):\n",
        "        model = Sequential()\n",
        "        model.add(Dense(64, input_dim=X_train.shape[1], activation=self.activation_function))\n",
        "        model.add(Dropout(self.dropout_rate))\n",
        "        model.add(Dense(64, activation=self.activation_function))\n",
        "        model.add(Dropout(self.dropout_rate))\n",
        "        model.add(Dense(1, activation='sigmoid'))\n",
        "        optimizer = Adam(learning_rate=self.learning_rate)\n",
        "        model.compile(optimizer=optimizer, loss='binary_crossentropy', metrics=['accuracy'])\n",
        "        return model\n",
        "\n",
        "    def fit(self, X, y):\n",
        "        self.model.fit(X, y, epochs=50, batch_size=self.batch_size, verbose=0)\n",
        "        return self\n",
        "\n",
        "    def predict(self, X):\n",
        "        return (self.model.predict(X) > 0.5).astype(\"int32\")\n",
        "\n",
        "    def score(self, X, y):\n",
        "        y_pred = self.predict(X)\n",
        "        return accuracy_score(y, y_pred)\n",
        "\n",
        "# Create an instance of the wrapper class\n",
        "model = KerasRandomSearch()\n",
        "\n",
        "# Define the hyperparameter space for RandomizedSearchCV\n",
        "param_dist = {\n",
        "    'learning_rate': [0.001, 0.0001],\n",
        "    'activation_function': ['relu', 'selu'],\n",
        "    'dropout_rate': [0.2, 0.5],\n",
        "    'batch_size': [32, 64]\n",
        "}\n",
        "\n",
        "# Create RandomizedSearchCV object\n",
        "random_search = RandomizedSearchCV(estimator=model, param_distributions=param_dist, n_iter=10, cv=3, verbose=2, random_state=42)\n",
        "\n",
        "# Fit RandomizedSearchCV to training data\n",
        "random_search.fit(X_train, y_train)\n"
      ],
      "metadata": {
        "colab": {
          "base_uri": "https://localhost:8080/",
          "height": 1000
        },
        "id": "YzO8Phn2bAWw",
        "outputId": "4fbd29bb-f405-49f8-a74f-c2554d97faa8"
      },
      "execution_count": null,
      "outputs": [
        {
          "output_type": "stream",
          "name": "stdout",
          "text": [
            "Fitting 3 folds for each of 10 candidates, totalling 30 fits\n",
            "3/3 [==============================] - 0s 9ms/step\n",
            "[CV] END activation_function=relu, batch_size=32, dropout_rate=0.2, learning_rate=0.001; total time=   4.2s\n",
            "3/3 [==============================] - 0s 5ms/step\n",
            "[CV] END activation_function=relu, batch_size=32, dropout_rate=0.2, learning_rate=0.001; total time=   4.7s\n",
            "3/3 [==============================] - 0s 5ms/step\n",
            "[CV] END activation_function=relu, batch_size=32, dropout_rate=0.2, learning_rate=0.001; total time=   2.1s\n",
            "3/3 [==============================] - 0s 4ms/step\n",
            "[CV] END activation_function=relu, batch_size=32, dropout_rate=0.2, learning_rate=0.0001; total time=   2.1s\n",
            "3/3 [==============================] - 0s 5ms/step\n",
            "[CV] END activation_function=relu, batch_size=32, dropout_rate=0.2, learning_rate=0.0001; total time=   2.1s\n",
            "3/3 [==============================] - 0s 5ms/step\n",
            "[CV] END activation_function=relu, batch_size=32, dropout_rate=0.2, learning_rate=0.0001; total time=   2.7s\n",
            "3/3 [==============================] - 0s 5ms/step\n",
            "[CV] END activation_function=relu, batch_size=64, dropout_rate=0.2, learning_rate=0.0001; total time=   1.7s\n",
            "3/3 [==============================] - 0s 6ms/step\n",
            "[CV] END activation_function=relu, batch_size=64, dropout_rate=0.2, learning_rate=0.0001; total time=   1.4s\n",
            "3/3 [==============================] - 0s 5ms/step\n",
            "[CV] END activation_function=relu, batch_size=64, dropout_rate=0.2, learning_rate=0.0001; total time=   1.4s\n",
            "3/3 [==============================] - 0s 6ms/step\n",
            "[CV] END activation_function=selu, batch_size=64, dropout_rate=0.5, learning_rate=0.001; total time=   1.4s\n",
            "3/3 [==============================] - 0s 5ms/step\n",
            "[CV] END activation_function=selu, batch_size=64, dropout_rate=0.5, learning_rate=0.001; total time=   3.2s\n",
            "3/3 [==============================] - 0s 4ms/step\n",
            "[CV] END activation_function=selu, batch_size=64, dropout_rate=0.5, learning_rate=0.001; total time=   1.8s\n",
            "3/3 [==============================] - 0s 5ms/step\n",
            "[CV] END activation_function=selu, batch_size=64, dropout_rate=0.2, learning_rate=0.0001; total time=   2.5s\n",
            "3/3 [==============================] - 0s 5ms/step\n",
            "[CV] END activation_function=selu, batch_size=64, dropout_rate=0.2, learning_rate=0.0001; total time=   1.6s\n",
            "3/3 [==============================] - 0s 5ms/step\n",
            "[CV] END activation_function=selu, batch_size=64, dropout_rate=0.2, learning_rate=0.0001; total time=   1.5s\n",
            "3/3 [==============================] - 0s 5ms/step\n",
            "[CV] END activation_function=selu, batch_size=32, dropout_rate=0.5, learning_rate=0.0001; total time=   1.8s\n",
            "3/3 [==============================] - 0s 6ms/step\n",
            "[CV] END activation_function=selu, batch_size=32, dropout_rate=0.5, learning_rate=0.0001; total time=   2.2s\n",
            "3/3 [==============================] - 0s 6ms/step\n",
            "[CV] END activation_function=selu, batch_size=32, dropout_rate=0.5, learning_rate=0.0001; total time=   2.2s\n",
            "3/3 [==============================] - 0s 8ms/step\n",
            "[CV] END activation_function=selu, batch_size=32, dropout_rate=0.2, learning_rate=0.001; total time=   4.2s\n",
            "3/3 [==============================] - 0s 8ms/step\n",
            "[CV] END activation_function=selu, batch_size=32, dropout_rate=0.2, learning_rate=0.001; total time=   3.8s\n",
            "3/3 [==============================] - 0s 11ms/step\n",
            "[CV] END activation_function=selu, batch_size=32, dropout_rate=0.2, learning_rate=0.001; total time=   3.3s\n",
            "3/3 [==============================] - 0s 12ms/step\n",
            "[CV] END activation_function=selu, batch_size=32, dropout_rate=0.2, learning_rate=0.0001; total time=   4.1s\n",
            "3/3 [==============================] - 0s 10ms/step\n",
            "[CV] END activation_function=selu, batch_size=32, dropout_rate=0.2, learning_rate=0.0001; total time=   5.9s\n",
            "3/3 [==============================] - 0s 5ms/step\n",
            "[CV] END activation_function=selu, batch_size=32, dropout_rate=0.2, learning_rate=0.0001; total time=   2.6s\n",
            "3/3 [==============================] - 0s 5ms/step\n",
            "[CV] END activation_function=relu, batch_size=32, dropout_rate=0.5, learning_rate=0.001; total time=   1.7s\n",
            "3/3 [==============================] - 0s 5ms/step\n",
            "[CV] END activation_function=relu, batch_size=32, dropout_rate=0.5, learning_rate=0.001; total time=   2.2s\n",
            "3/3 [==============================] - 0s 5ms/step\n",
            "[CV] END activation_function=relu, batch_size=32, dropout_rate=0.5, learning_rate=0.001; total time=   3.7s\n",
            "3/3 [==============================] - 0s 5ms/step\n",
            "[CV] END activation_function=selu, batch_size=64, dropout_rate=0.5, learning_rate=0.0001; total time=   1.5s\n",
            "3/3 [==============================] - 0s 5ms/step\n",
            "[CV] END activation_function=selu, batch_size=64, dropout_rate=0.5, learning_rate=0.0001; total time=   1.4s\n",
            "3/3 [==============================] - 0s 5ms/step\n",
            "[CV] END activation_function=selu, batch_size=64, dropout_rate=0.5, learning_rate=0.0001; total time=   1.5s\n"
          ]
        },
        {
          "output_type": "execute_result",
          "data": {
            "text/plain": [
              "RandomizedSearchCV(cv=3, estimator=KerasRandomSearch(),\n",
              "                   param_distributions={'activation_function': ['relu', 'selu'],\n",
              "                                        'batch_size': [32, 64],\n",
              "                                        'dropout_rate': [0.2, 0.5],\n",
              "                                        'learning_rate': [0.001, 0.0001]},\n",
              "                   random_state=42, verbose=2)"
            ],
            "text/html": [
              "<style>#sk-container-id-2 {color: black;background-color: white;}#sk-container-id-2 pre{padding: 0;}#sk-container-id-2 div.sk-toggleable {background-color: white;}#sk-container-id-2 label.sk-toggleable__label {cursor: pointer;display: block;width: 100%;margin-bottom: 0;padding: 0.3em;box-sizing: border-box;text-align: center;}#sk-container-id-2 label.sk-toggleable__label-arrow:before {content: \"▸\";float: left;margin-right: 0.25em;color: #696969;}#sk-container-id-2 label.sk-toggleable__label-arrow:hover:before {color: black;}#sk-container-id-2 div.sk-estimator:hover label.sk-toggleable__label-arrow:before {color: black;}#sk-container-id-2 div.sk-toggleable__content {max-height: 0;max-width: 0;overflow: hidden;text-align: left;background-color: #f0f8ff;}#sk-container-id-2 div.sk-toggleable__content pre {margin: 0.2em;color: black;border-radius: 0.25em;background-color: #f0f8ff;}#sk-container-id-2 input.sk-toggleable__control:checked~div.sk-toggleable__content {max-height: 200px;max-width: 100%;overflow: auto;}#sk-container-id-2 input.sk-toggleable__control:checked~label.sk-toggleable__label-arrow:before {content: \"▾\";}#sk-container-id-2 div.sk-estimator input.sk-toggleable__control:checked~label.sk-toggleable__label {background-color: #d4ebff;}#sk-container-id-2 div.sk-label input.sk-toggleable__control:checked~label.sk-toggleable__label {background-color: #d4ebff;}#sk-container-id-2 input.sk-hidden--visually {border: 0;clip: rect(1px 1px 1px 1px);clip: rect(1px, 1px, 1px, 1px);height: 1px;margin: -1px;overflow: hidden;padding: 0;position: absolute;width: 1px;}#sk-container-id-2 div.sk-estimator {font-family: monospace;background-color: #f0f8ff;border: 1px dotted black;border-radius: 0.25em;box-sizing: border-box;margin-bottom: 0.5em;}#sk-container-id-2 div.sk-estimator:hover {background-color: #d4ebff;}#sk-container-id-2 div.sk-parallel-item::after {content: \"\";width: 100%;border-bottom: 1px solid gray;flex-grow: 1;}#sk-container-id-2 div.sk-label:hover label.sk-toggleable__label {background-color: #d4ebff;}#sk-container-id-2 div.sk-serial::before {content: \"\";position: absolute;border-left: 1px solid gray;box-sizing: border-box;top: 0;bottom: 0;left: 50%;z-index: 0;}#sk-container-id-2 div.sk-serial {display: flex;flex-direction: column;align-items: center;background-color: white;padding-right: 0.2em;padding-left: 0.2em;position: relative;}#sk-container-id-2 div.sk-item {position: relative;z-index: 1;}#sk-container-id-2 div.sk-parallel {display: flex;align-items: stretch;justify-content: center;background-color: white;position: relative;}#sk-container-id-2 div.sk-item::before, #sk-container-id-2 div.sk-parallel-item::before {content: \"\";position: absolute;border-left: 1px solid gray;box-sizing: border-box;top: 0;bottom: 0;left: 50%;z-index: -1;}#sk-container-id-2 div.sk-parallel-item {display: flex;flex-direction: column;z-index: 1;position: relative;background-color: white;}#sk-container-id-2 div.sk-parallel-item:first-child::after {align-self: flex-end;width: 50%;}#sk-container-id-2 div.sk-parallel-item:last-child::after {align-self: flex-start;width: 50%;}#sk-container-id-2 div.sk-parallel-item:only-child::after {width: 0;}#sk-container-id-2 div.sk-dashed-wrapped {border: 1px dashed gray;margin: 0 0.4em 0.5em 0.4em;box-sizing: border-box;padding-bottom: 0.4em;background-color: white;}#sk-container-id-2 div.sk-label label {font-family: monospace;font-weight: bold;display: inline-block;line-height: 1.2em;}#sk-container-id-2 div.sk-label-container {text-align: center;}#sk-container-id-2 div.sk-container {/* jupyter's `normalize.less` sets `[hidden] { display: none; }` but bootstrap.min.css set `[hidden] { display: none !important; }` so we also need the `!important` here to be able to override the default hidden behavior on the sphinx rendered scikit-learn.org. See: https://github.com/scikit-learn/scikit-learn/issues/21755 */display: inline-block !important;position: relative;}#sk-container-id-2 div.sk-text-repr-fallback {display: none;}</style><div id=\"sk-container-id-2\" class=\"sk-top-container\"><div class=\"sk-text-repr-fallback\"><pre>RandomizedSearchCV(cv=3, estimator=KerasRandomSearch(),\n",
              "                   param_distributions={&#x27;activation_function&#x27;: [&#x27;relu&#x27;, &#x27;selu&#x27;],\n",
              "                                        &#x27;batch_size&#x27;: [32, 64],\n",
              "                                        &#x27;dropout_rate&#x27;: [0.2, 0.5],\n",
              "                                        &#x27;learning_rate&#x27;: [0.001, 0.0001]},\n",
              "                   random_state=42, verbose=2)</pre><b>In a Jupyter environment, please rerun this cell to show the HTML representation or trust the notebook. <br />On GitHub, the HTML representation is unable to render, please try loading this page with nbviewer.org.</b></div><div class=\"sk-container\" hidden><div class=\"sk-item sk-dashed-wrapped\"><div class=\"sk-label-container\"><div class=\"sk-label sk-toggleable\"><input class=\"sk-toggleable__control sk-hidden--visually\" id=\"sk-estimator-id-4\" type=\"checkbox\" ><label for=\"sk-estimator-id-4\" class=\"sk-toggleable__label sk-toggleable__label-arrow\">RandomizedSearchCV</label><div class=\"sk-toggleable__content\"><pre>RandomizedSearchCV(cv=3, estimator=KerasRandomSearch(),\n",
              "                   param_distributions={&#x27;activation_function&#x27;: [&#x27;relu&#x27;, &#x27;selu&#x27;],\n",
              "                                        &#x27;batch_size&#x27;: [32, 64],\n",
              "                                        &#x27;dropout_rate&#x27;: [0.2, 0.5],\n",
              "                                        &#x27;learning_rate&#x27;: [0.001, 0.0001]},\n",
              "                   random_state=42, verbose=2)</pre></div></div></div><div class=\"sk-parallel\"><div class=\"sk-parallel-item\"><div class=\"sk-item\"><div class=\"sk-label-container\"><div class=\"sk-label sk-toggleable\"><input class=\"sk-toggleable__control sk-hidden--visually\" id=\"sk-estimator-id-5\" type=\"checkbox\" ><label for=\"sk-estimator-id-5\" class=\"sk-toggleable__label sk-toggleable__label-arrow\">estimator: KerasRandomSearch</label><div class=\"sk-toggleable__content\"><pre>KerasRandomSearch()</pre></div></div></div><div class=\"sk-serial\"><div class=\"sk-item\"><div class=\"sk-estimator sk-toggleable\"><input class=\"sk-toggleable__control sk-hidden--visually\" id=\"sk-estimator-id-6\" type=\"checkbox\" ><label for=\"sk-estimator-id-6\" class=\"sk-toggleable__label sk-toggleable__label-arrow\">KerasRandomSearch</label><div class=\"sk-toggleable__content\"><pre>KerasRandomSearch()</pre></div></div></div></div></div></div></div></div></div></div>"
            ]
          },
          "metadata": {},
          "execution_count": 14
        }
      ]
    },
    {
      "cell_type": "code",
      "source": [
        "# Print the best score and hyperparameter configuration\n",
        "print(\"Best score:\", random_search.best_score_)\n",
        "print(\"Best parameters:\", random_search.best_params_)"
      ],
      "metadata": {
        "colab": {
          "base_uri": "https://localhost:8080/"
        },
        "id": "4PqTQPwKbdci",
        "outputId": "5135061c-878c-4c5e-a09e-a6ed87d1a3b1"
      },
      "execution_count": null,
      "outputs": [
        {
          "output_type": "stream",
          "name": "stdout",
          "text": [
            "Best score: 0.8142489711934155\n",
            "Best parameters: {'learning_rate': 0.0001, 'dropout_rate': 0.2, 'batch_size': 32, 'activation_function': 'relu'}\n"
          ]
        }
      ]
    }
  ]
}